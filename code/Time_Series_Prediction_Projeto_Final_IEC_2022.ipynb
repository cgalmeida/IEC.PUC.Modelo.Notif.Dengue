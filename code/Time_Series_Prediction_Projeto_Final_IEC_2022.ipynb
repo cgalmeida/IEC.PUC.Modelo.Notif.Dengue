{
  "nbformat": 4,
  "nbformat_minor": 0,
  "metadata": {
    "colab": {
      "provenance": [],
      "collapsed_sections": []
    },
    "kernelspec": {
      "name": "python3",
      "display_name": "Python 3"
    },
    "language_info": {
      "name": "python"
    }
  },
  "cells": [
    {
      "cell_type": "markdown",
      "source": [
        "## Clonando o repositório com os dados do problema"
      ],
      "metadata": {
        "id": "qxfyxeYd07p6"
      }
    },
    {
      "cell_type": "code",
      "source": [
        "!rm -r IEC.PUC.Modelo.Notif.Dengue\n",
        "!git clone https://github.com/cgalmeida/IEC.PUC.Modelo.Notif.Dengue.git"
      ],
      "metadata": {
        "id": "pnb1aqikAWbR",
        "colab": {
          "base_uri": "https://localhost:8080/"
        },
        "outputId": "ad3bd5d4-f01a-406c-f942-89875272b3cc"
      },
      "execution_count": 1,
      "outputs": [
        {
          "output_type": "stream",
          "name": "stdout",
          "text": [
            "rm: cannot remove 'IEC.PUC.Modelo.Notif.Dengue': No such file or directory\n",
            "Cloning into 'IEC.PUC.Modelo.Notif.Dengue'...\n",
            "remote: Enumerating objects: 180, done.\u001b[K\n",
            "remote: Counting objects: 100% (75/75), done.\u001b[K\n",
            "remote: Compressing objects: 100% (29/29), done.\u001b[K\n",
            "remote: Total 180 (delta 44), reused 73 (delta 44), pack-reused 105\u001b[K\n",
            "Receiving objects: 100% (180/180), 63.77 KiB | 10.63 MiB/s, done.\n",
            "Resolving deltas: 100% (104/104), done.\n"
          ]
        }
      ]
    },
    {
      "cell_type": "markdown",
      "source": [
        "## Instalando o otimizador"
      ],
      "metadata": {
        "id": "a0w6nZ3-04Z4"
      }
    },
    {
      "cell_type": "code",
      "source": [
        "! pip install adabelief-tf --quiet"
      ],
      "metadata": {
        "id": "KYfQ7rTcdEK3"
      },
      "execution_count": 2,
      "outputs": []
    },
    {
      "cell_type": "markdown",
      "source": [
        "## Fazendo os imports das libs necessárias"
      ],
      "metadata": {
        "id": "fEJRTafO01A0"
      }
    },
    {
      "cell_type": "code",
      "source": [
        "import os\n",
        "from io import StringIO\n",
        "import codecs\n",
        "import itertools\n",
        "import numpy as np\n",
        "import pandas as pd\n",
        "import tensorflow as tf\n",
        "import matplotlib.pyplot as plt\n",
        "from tensorflow.keras.models import Sequential\n",
        "from tensorflow.keras.layers import Dense\n",
        "from tensorflow.keras.layers import LSTM\n",
        "from sklearn.preprocessing import MinMaxScaler\n",
        "from sklearn.metrics import mean_squared_error\n",
        "from tensorflow import keras\n",
        "from adabelief_tf import AdaBeliefOptimizer\n",
        "import random as python_random"
      ],
      "metadata": {
        "id": "bp6cyST3AeBP"
      },
      "execution_count": 3,
      "outputs": []
    },
    {
      "cell_type": "markdown",
      "source": [
        "## Especificando o caminho para os dados"
      ],
      "metadata": {
        "id": "x6gLkd_rP_R8"
      }
    },
    {
      "cell_type": "code",
      "source": [
        "path_data = os.path.join('IEC.PUC.Modelo.Notif.Dengue', 'dados')\n",
        "path_data"
      ],
      "metadata": {
        "colab": {
          "base_uri": "https://localhost:8080/",
          "height": 35
        },
        "id": "WWrTFOYHQPwK",
        "outputId": "181464b7-d073-4ff3-d571-2c28eb3bf05f"
      },
      "execution_count": 4,
      "outputs": [
        {
          "output_type": "execute_result",
          "data": {
            "text/plain": [
              "'IEC.PUC.Modelo.Notif.Dengue/dados'"
            ],
            "application/vnd.google.colaboratory.intrinsic+json": {
              "type": "string"
            }
          },
          "metadata": {},
          "execution_count": 4
        }
      ]
    },
    {
      "cell_type": "code",
      "source": [
        "path_base = os.path.join('IEC.PUC.Modelo.Notif.Dengue', 'dados', 'metadados')\n",
        "path_base"
      ],
      "metadata": {
        "colab": {
          "base_uri": "https://localhost:8080/",
          "height": 35
        },
        "id": "JSiliy95Qg9F",
        "outputId": "f47c3cab-6111-4e9a-e239-2e5f316351da"
      },
      "execution_count": 5,
      "outputs": [
        {
          "output_type": "execute_result",
          "data": {
            "text/plain": [
              "'IEC.PUC.Modelo.Notif.Dengue/dados/metadados'"
            ],
            "application/vnd.google.colaboratory.intrinsic+json": {
              "type": "string"
            }
          },
          "metadata": {},
          "execution_count": 5
        }
      ]
    },
    {
      "cell_type": "markdown",
      "source": [
        "## Lendo os dados e armazenando em uma lista"
      ],
      "metadata": {
        "id": "nZQ4i0W-0xHo"
      }
    },
    {
      "cell_type": "code",
      "source": [
        "def only_files(path):\n",
        "    for file in os.listdir(path):\n",
        "        if os.path.isfile(os.path.join(path, file)):\n",
        "            yield file\n",
        "\n",
        "def break_test(s):\n",
        "    return 'SINAN NET' not in s.upper()\n",
        "\n",
        "def read_file(file_path, line_pos):\n",
        "    fp = codecs.open(file_path, 'r', encoding='latin-1')\n",
        "    txt_lines = fp.readlines()[line_pos:]\n",
        "    md = [s for s in txt_lines]\n",
        "    data_lines = list(itertools.takewhile(break_test, txt_lines))\n",
        "    fp.close()\n",
        "    return data_lines\n",
        "\n",
        "def to_dataframe(lst):\n",
        "    return pd.read_csv(StringIO(''.join(lst)), sep=';', encoding = \"ISO-8859-1\")\n",
        "\n",
        "def create_col_year(df, filename_var):\n",
        "    df = df.replace('-', '0')\n",
        "    df['Ano'] = filename_var[-8:-4]\n",
        "    return df.drop(columns=['Total'])\n",
        "\n",
        "def read_folder(path_data, filename_var):\n",
        "    files = list(only_files(path_data))\n",
        "    files.sort()    \n",
        "    return [create_col_year(to_dataframe(read_file(os.path.join(path_data, file_name), 3)), file_name) for file_name in files if filename_var in file_name]\n",
        "\n",
        "def read_base(filename_var):\n",
        "    file_path = os.path.join(path_base, filename_var) + '.csv'\n",
        "    return pd.read_csv(file_path, sep=';', encoding = \"ISO-8859-1\")\n",
        "\n",
        "def merge_base(df_data, df_base):\n",
        "    df_data.columns.values[0] = 'Descricao'\n",
        "    return pd.merge(df_data, df_base, on='Descricao', how='inner')\n",
        "\n",
        "def transpose_data(df):\n",
        "    # df.set_index(['descricao','Ano','codigo']).stack().reset_index()\n",
        "    return df.melt(id_vars=['Descricao','Ano','Codigo']).rename(columns={'variable':'Mes', 'value': 'Casos'})\n",
        "\n",
        "def format_res(df):\n",
        "    df_mes = read_base('mes_abr').rename(columns={'Codigo': 'Codigo_Mes', 'Descricao': 'Mes'})\n",
        "    df_mes = pd.merge(df, df_mes, on=['Mes'], how='inner')\n",
        "    df_mes['Periodo'] = df_mes.apply(lambda x: x.Ano + '.' + str(x.Codigo_Mes).zfill(2), axis=1)\n",
        "    return df_mes\n",
        "\n",
        "def type_col(df):\n",
        "    df['Descricao'] = df['Descricao'].astype('str')\n",
        "    df['Ano'] = df['Ano'].astype('int64')\n",
        "    df['Mes'] = df['Mes'].astype('str')\n",
        "    df['Casos'] = df['Casos'].astype('int64')\n",
        "    df['Periodo'] = df['Periodo'].astype('str')\n",
        "    return df\n",
        "\n",
        "def prepare_data(path_data, filename_var):\n",
        "    df_base = read_base(filename_var)\n",
        "    res = [merge_base(i, df_base) for i in read_folder(path_data, filename_var)]\n",
        "    res = [format_res(transpose_data(df)) for df in res]    \n",
        "    res = pd.concat(res[:], axis=0).reset_index(drop=True)\n",
        "    res = type_col(res)\n",
        "    res = res.groupby(['Ano', 'Codigo', 'Codigo_Mes', 'Periodo'], group_keys=False).sum().reset_index()\n",
        "    return pd.merge(res, df_base, on=['Codigo'], how='inner')\n",
        "\n",
        "def totalizar(df):\n",
        "    return df.groupby(['Ano', 'Codigo_Mes', 'Periodo'], group_keys=False).sum().reset_index().drop(columns=['Codigo'])"
      ],
      "metadata": {
        "id": "z3Puhj_2Qq-w"
      },
      "execution_count": 9,
      "outputs": []
    },
    {
      "cell_type": "code",
      "source": [
        "%%time\n",
        "filename_var = 'faixa'\n",
        "data_list = prepare_data(path_data, filename_var = 'faixa')\n",
        "data_list = totalizar(data_list)\n",
        "data_list.head()"
      ],
      "metadata": {
        "id": "CIqdrw3lDEt7",
        "colab": {
          "base_uri": "https://localhost:8080/",
          "height": 242
        },
        "outputId": "8c28ffde-4968-4877-fc36-2f19c04fa02c"
      },
      "execution_count": 10,
      "outputs": [
        {
          "output_type": "stream",
          "name": "stdout",
          "text": [
            "CPU times: user 155 ms, sys: 0 ns, total: 155 ms\n",
            "Wall time: 157 ms\n"
          ]
        },
        {
          "output_type": "execute_result",
          "data": {
            "text/plain": [
              "    Ano  Codigo_Mes  Periodo  Casos\n",
              "0  2014           1  2014.01   4827\n",
              "1  2014           2  2014.02   8594\n",
              "2  2014           3  2014.03  11327\n",
              "3  2014           4  2014.04  15311\n",
              "4  2014           5  2014.05   9838"
            ],
            "text/html": [
              "\n",
              "  <div id=\"df-786d3f83-b357-4cda-a4e5-02e39a79b078\">\n",
              "    <div class=\"colab-df-container\">\n",
              "      <div>\n",
              "<style scoped>\n",
              "    .dataframe tbody tr th:only-of-type {\n",
              "        vertical-align: middle;\n",
              "    }\n",
              "\n",
              "    .dataframe tbody tr th {\n",
              "        vertical-align: top;\n",
              "    }\n",
              "\n",
              "    .dataframe thead th {\n",
              "        text-align: right;\n",
              "    }\n",
              "</style>\n",
              "<table border=\"1\" class=\"dataframe\">\n",
              "  <thead>\n",
              "    <tr style=\"text-align: right;\">\n",
              "      <th></th>\n",
              "      <th>Ano</th>\n",
              "      <th>Codigo_Mes</th>\n",
              "      <th>Periodo</th>\n",
              "      <th>Casos</th>\n",
              "    </tr>\n",
              "  </thead>\n",
              "  <tbody>\n",
              "    <tr>\n",
              "      <th>0</th>\n",
              "      <td>2014</td>\n",
              "      <td>1</td>\n",
              "      <td>2014.01</td>\n",
              "      <td>4827</td>\n",
              "    </tr>\n",
              "    <tr>\n",
              "      <th>1</th>\n",
              "      <td>2014</td>\n",
              "      <td>2</td>\n",
              "      <td>2014.02</td>\n",
              "      <td>8594</td>\n",
              "    </tr>\n",
              "    <tr>\n",
              "      <th>2</th>\n",
              "      <td>2014</td>\n",
              "      <td>3</td>\n",
              "      <td>2014.03</td>\n",
              "      <td>11327</td>\n",
              "    </tr>\n",
              "    <tr>\n",
              "      <th>3</th>\n",
              "      <td>2014</td>\n",
              "      <td>4</td>\n",
              "      <td>2014.04</td>\n",
              "      <td>15311</td>\n",
              "    </tr>\n",
              "    <tr>\n",
              "      <th>4</th>\n",
              "      <td>2014</td>\n",
              "      <td>5</td>\n",
              "      <td>2014.05</td>\n",
              "      <td>9838</td>\n",
              "    </tr>\n",
              "  </tbody>\n",
              "</table>\n",
              "</div>\n",
              "      <button class=\"colab-df-convert\" onclick=\"convertToInteractive('df-786d3f83-b357-4cda-a4e5-02e39a79b078')\"\n",
              "              title=\"Convert this dataframe to an interactive table.\"\n",
              "              style=\"display:none;\">\n",
              "        \n",
              "  <svg xmlns=\"http://www.w3.org/2000/svg\" height=\"24px\"viewBox=\"0 0 24 24\"\n",
              "       width=\"24px\">\n",
              "    <path d=\"M0 0h24v24H0V0z\" fill=\"none\"/>\n",
              "    <path d=\"M18.56 5.44l.94 2.06.94-2.06 2.06-.94-2.06-.94-.94-2.06-.94 2.06-2.06.94zm-11 1L8.5 8.5l.94-2.06 2.06-.94-2.06-.94L8.5 2.5l-.94 2.06-2.06.94zm10 10l.94 2.06.94-2.06 2.06-.94-2.06-.94-.94-2.06-.94 2.06-2.06.94z\"/><path d=\"M17.41 7.96l-1.37-1.37c-.4-.4-.92-.59-1.43-.59-.52 0-1.04.2-1.43.59L10.3 9.45l-7.72 7.72c-.78.78-.78 2.05 0 2.83L4 21.41c.39.39.9.59 1.41.59.51 0 1.02-.2 1.41-.59l7.78-7.78 2.81-2.81c.8-.78.8-2.07 0-2.86zM5.41 20L4 18.59l7.72-7.72 1.47 1.35L5.41 20z\"/>\n",
              "  </svg>\n",
              "      </button>\n",
              "      \n",
              "  <style>\n",
              "    .colab-df-container {\n",
              "      display:flex;\n",
              "      flex-wrap:wrap;\n",
              "      gap: 12px;\n",
              "    }\n",
              "\n",
              "    .colab-df-convert {\n",
              "      background-color: #E8F0FE;\n",
              "      border: none;\n",
              "      border-radius: 50%;\n",
              "      cursor: pointer;\n",
              "      display: none;\n",
              "      fill: #1967D2;\n",
              "      height: 32px;\n",
              "      padding: 0 0 0 0;\n",
              "      width: 32px;\n",
              "    }\n",
              "\n",
              "    .colab-df-convert:hover {\n",
              "      background-color: #E2EBFA;\n",
              "      box-shadow: 0px 1px 2px rgba(60, 64, 67, 0.3), 0px 1px 3px 1px rgba(60, 64, 67, 0.15);\n",
              "      fill: #174EA6;\n",
              "    }\n",
              "\n",
              "    [theme=dark] .colab-df-convert {\n",
              "      background-color: #3B4455;\n",
              "      fill: #D2E3FC;\n",
              "    }\n",
              "\n",
              "    [theme=dark] .colab-df-convert:hover {\n",
              "      background-color: #434B5C;\n",
              "      box-shadow: 0px 1px 3px 1px rgba(0, 0, 0, 0.15);\n",
              "      filter: drop-shadow(0px 1px 2px rgba(0, 0, 0, 0.3));\n",
              "      fill: #FFFFFF;\n",
              "    }\n",
              "  </style>\n",
              "\n",
              "      <script>\n",
              "        const buttonEl =\n",
              "          document.querySelector('#df-786d3f83-b357-4cda-a4e5-02e39a79b078 button.colab-df-convert');\n",
              "        buttonEl.style.display =\n",
              "          google.colab.kernel.accessAllowed ? 'block' : 'none';\n",
              "\n",
              "        async function convertToInteractive(key) {\n",
              "          const element = document.querySelector('#df-786d3f83-b357-4cda-a4e5-02e39a79b078');\n",
              "          const dataTable =\n",
              "            await google.colab.kernel.invokeFunction('convertToInteractive',\n",
              "                                                     [key], {});\n",
              "          if (!dataTable) return;\n",
              "\n",
              "          const docLinkHtml = 'Like what you see? Visit the ' +\n",
              "            '<a target=\"_blank\" href=https://colab.research.google.com/notebooks/data_table.ipynb>data table notebook</a>'\n",
              "            + ' to learn more about interactive tables.';\n",
              "          element.innerHTML = '';\n",
              "          dataTable['output_type'] = 'display_data';\n",
              "          await google.colab.output.renderOutput(dataTable, element);\n",
              "          const docLink = document.createElement('div');\n",
              "          docLink.innerHTML = docLinkHtml;\n",
              "          element.appendChild(docLink);\n",
              "        }\n",
              "      </script>\n",
              "    </div>\n",
              "  </div>\n",
              "  "
            ]
          },
          "metadata": {},
          "execution_count": 10
        }
      ]
    },
    {
      "cell_type": "code",
      "source": [
        "data = data_list['Casos'].values.tolist()"
      ],
      "metadata": {
        "id": "pGRLMqKcbuBf"
      },
      "execution_count": 11,
      "outputs": []
    },
    {
      "cell_type": "markdown",
      "source": [
        "## Dando uma olhada no dataset"
      ],
      "metadata": {
        "id": "oruUyWSE0bAi"
      }
    },
    {
      "cell_type": "code",
      "source": [
        "%matplotlib inline\n",
        "plt.figure(figsize=(16,8))\n",
        "plt.plot(data)\n",
        "plt.show()"
      ],
      "metadata": {
        "id": "nus8i0GT8DCR",
        "colab": {
          "base_uri": "https://localhost:8080/",
          "height": 483
        },
        "outputId": "20e8a393-a049-4c3d-f522-77b0ae9a9c56"
      },
      "execution_count": 12,
      "outputs": [
        {
          "output_type": "display_data",
          "data": {
            "text/plain": [
              "<Figure size 1152x576 with 1 Axes>"
            ],
            "image/png": "[encoded data removed]"
          },
          "metadata": {
            "needs_background": "light"
          }
        }
      ]
    },
    {
      "cell_type": "markdown",
      "source": [
        "## Processando o dado"
      ],
      "metadata": {
        "id": "RplkL9pH0TYQ"
      }
    },
    {
      "cell_type": "code",
      "source": [
        "dataframe =  data_list['Casos']\n",
        "dataset = dataframe.values\n",
        "dataset = dataset.astype('float32')\n",
        "scaler = MinMaxScaler(feature_range=(0, 1))\n",
        "dataset = scaler.fit_transform([[i] for i in dataset])"
      ],
      "metadata": {
        "id": "vrrP40XdAkwo"
      },
      "execution_count": 34,
      "outputs": []
    },
    {
      "cell_type": "code",
      "source": [
        "%matplotlib inline\n",
        "plt.figure(figsize=(16,8))\n",
        "plt.plot(dataset)\n",
        "plt.show()"
      ],
      "metadata": {
        "colab": {
          "base_uri": "https://localhost:8080/",
          "height": 483
        },
        "id": "rAYxSpQVctRp",
        "outputId": "74105322-07a0-4a04-865e-d7f89d26011e"
      },
      "execution_count": 35,
      "outputs": [
        {
          "output_type": "display_data",
          "data": {
            "text/plain": [
              "<Figure size 1152x576 with 1 Axes>"
            ],
            "image/png": "[encoded data removed]"
          },
          "metadata": {
            "needs_background": "light"
          }
        }
      ]
    },
    {
      "cell_type": "markdown",
      "source": [
        "## Separando o dado em treino e teste"
      ],
      "metadata": {
        "id": "pgXMdaKh0Xcc"
      }
    },
    {
      "cell_type": "code",
      "source": [
        "train_size = int(len(dataset) * 0.67)\n",
        "test_size = len(dataset) - train_size\n",
        "train, test = dataset[0:train_size,:], dataset[train_size:len(dataset),:]\n",
        "print(len(train), len(test))"
      ],
      "metadata": {
        "id": "8TwGSeEkArTN",
        "colab": {
          "base_uri": "https://localhost:8080/"
        },
        "outputId": "1579dd40-4db8-4f82-dffc-e9646bd02d5f"
      },
      "execution_count": 36,
      "outputs": [
        {
          "output_type": "stream",
          "name": "stdout",
          "text": [
            "64 32\n"
          ]
        }
      ]
    },
    {
      "cell_type": "code",
      "source": [
        "def create_dataset(dataset, look_back=1):\n",
        "\tdataX, dataY = [], []\n",
        "\tfor i in range(len(dataset)-look_back-1):\n",
        "\t\ta = dataset[i:(i+look_back), 0]\n",
        "\t\tdataX.append(a)\n",
        "\t\tdataY.append(dataset[i + look_back, 0])\n",
        "\treturn np.array(dataX), np.array(dataY)\n",
        " \n",
        "def plot_convergence(hist: tf.keras.callbacks.History, \n",
        "                     metric_name:str) -> None:\n",
        "  figure = plt.gcf()\n",
        "  figure.set_size_inches((15, 5))\n",
        "  figure.patch.set_facecolor('darkgrey')\n",
        "  \n",
        "  ax = plt.axes()\n",
        "  ax.set_facecolor(\"darkgrey\")\n",
        "  \n",
        "  plt.xlabel('Epoch', fontsize=14)\n",
        "  plt.xticks(fontsize=14)\n",
        "  plt.ylabel(metric_name.title(), fontsize=14)\n",
        "  plt.yticks(fontsize=14)\n",
        "\n",
        "  plt.plot(range(1, len(hist.history[metric_name.lower()]) + 1), \n",
        "           hist.history[metric_name.lower()], marker='o', linewidth=3, \n",
        "           markersize=12)\n",
        "  plt.plot(range(1, len(hist.history[f'val_{metric_name.lower()}']) + 1), \n",
        "           hist.history[f'val_{metric_name.lower()}'], marker='X', linewidth=3, \n",
        "           markersize=12)\n",
        "  plt.legend([metric_name.title(), f'Validation {metric_name.title()}'], \n",
        "             fontsize=14)\n",
        "  plt.show()\n",
        "\n",
        "def reset_seeds():\n",
        "   np.random.seed(123) \n",
        "   python_random.seed(123)\n",
        "   tf.random.set_seed(1234)"
      ],
      "metadata": {
        "id": "47uaaI4EAxQ7"
      },
      "execution_count": 37,
      "outputs": []
    },
    {
      "cell_type": "code",
      "source": [
        "learning_rate = 1e-4\n",
        "ada_belief = AdaBeliefOptimizer(learning_rate=learning_rate, print_change_log = False)"
      ],
      "metadata": {
        "id": "9D6jvZE9XXvb"
      },
      "execution_count": 38,
      "outputs": []
    },
    {
      "cell_type": "markdown",
      "source": [
        "## Preparando o dado"
      ],
      "metadata": {
        "id": "8AzCNoiq1MLX"
      }
    },
    {
      "cell_type": "code",
      "source": [
        "look_back = 24\n",
        "trainX, trainY = create_dataset(train, look_back)\n",
        "testX, testY = create_dataset(test, look_back)\n",
        "\n",
        "trainX = np.reshape(trainX, (trainX.shape[0], 1, trainX.shape[1]))\n",
        "testX = np.reshape(testX, (testX.shape[0], 1, testX.shape[1]))"
      ],
      "metadata": {
        "id": "Uhcjl7bLAvCP"
      },
      "execution_count": 39,
      "outputs": []
    },
    {
      "cell_type": "markdown",
      "source": [
        "## Criando, compilando e treinando o modelo"
      ],
      "metadata": {
        "id": "TUHZn0BP1Imj"
      }
    },
    {
      "cell_type": "code",
      "source": [
        "%%time\n",
        "reset_seeds() \n",
        "model = Sequential()\n",
        "model.add(LSTM(30, return_sequences=True, input_shape=(1, look_back)))\n",
        "model.add(LSTM(30, return_sequences=True))\n",
        "model.add(LSTM(30))\n",
        "model.add(Dense(1))\n"
      ],
      "metadata": {
        "id": "6NKbl94nAzGO",
        "colab": {
          "base_uri": "https://localhost:8080/"
        },
        "outputId": "95e7fbb4-c494-471b-fad3-22fcf3eb8c42"
      },
      "execution_count": 40,
      "outputs": [
        {
          "output_type": "stream",
          "name": "stdout",
          "text": [
            "CPU times: user 730 ms, sys: 14.4 ms, total: 744 ms\n",
            "Wall time: 745 ms\n"
          ]
        }
      ]
    },
    {
      "cell_type": "code",
      "source": [
        "model.compile(loss='mean_squared_error', \n",
        "              optimizer=ada_belief)"
      ],
      "metadata": {
        "id": "s6g_hsUqh5o0"
      },
      "execution_count": 41,
      "outputs": []
    },
    {
      "cell_type": "code",
      "source": [
        "hist = model.fit(trainX,\n",
        "                 trainY,\n",
        "                 epochs=400,\n",
        "                 batch_size=128,\n",
        "                 validation_split=0.2)"
      ],
      "metadata": {
        "colab": {
          "base_uri": "https://localhost:8080/"
        },
        "id": "Iw3buEzLI20j",
        "outputId": "730aa499-db87-46a1-e374-fd4bca068980"
      },
      "execution_count": 42,
      "outputs": [
        {
          "output_type": "stream",
          "name": "stdout",
          "text": [
            "Epoch 1/400\n",
            "1/1 [==============================] - 7s 7s/step - loss: 0.0823 - val_loss: 0.0375\n",
            "Epoch 2/400\n",
            "1/1 [==============================] - 0s 37ms/step - loss: 0.0823 - val_loss: 0.0375\n",
            "Epoch 3/400\n",
            "1/1 [==============================] - 0s 29ms/step - loss: 0.0823 - val_loss: 0.0375\n",
            "Epoch 4/400\n",
            "1/1 [==============================] - 0s 37ms/step - loss: 0.0823 - val_loss: 0.0375\n",
            "Epoch 5/400\n",
            "1/1 [==============================] - 0s 30ms/step - loss: 0.0823 - val_loss: 0.0375\n",
            "Epoch 6/400\n",
            "1/1 [==============================] - 0s 29ms/step - loss: 0.0823 - val_loss: 0.0374\n",
            "Epoch 7/400\n",
            "1/1 [==============================] - 0s 28ms/step - loss: 0.0823 - val_loss: 0.0374\n",
            "Epoch 8/400\n",
            "1/1 [==============================] - 0s 27ms/step - loss: 0.0823 - val_loss: 0.0374\n",
            "Epoch 9/400\n",
            "1/1 [==============================] - 0s 32ms/step - loss: 0.0823 - val_loss: 0.0374\n",
            "Epoch 10/400\n",
            "1/1 [==============================] - 0s 28ms/step - loss: 0.0823 - val_loss: 0.0374\n",
            "Epoch 11/400\n",
            "1/1 [==============================] - 0s 33ms/step - loss: 0.0823 - val_loss: 0.0374\n",
            "Epoch 12/400\n",
            "1/1 [==============================] - 0s 31ms/step - loss: 0.0823 - val_loss: 0.0374\n",
            "Epoch 13/400\n",
            "1/1 [==============================] - 0s 29ms/step - loss: 0.0823 - val_loss: 0.0374\n",
            "Epoch 14/400\n",
            "1/1 [==============================] - 0s 30ms/step - loss: 0.0823 - val_loss: 0.0374\n",
            "Epoch 15/400\n",
            "1/1 [==============================] - 0s 30ms/step - loss: 0.0823 - val_loss: 0.0374\n",
            "Epoch 16/400\n",
            "1/1 [==============================] - 0s 32ms/step - loss: 0.0823 - val_loss: 0.0374\n",
            "Epoch 17/400\n",
            "1/1 [==============================] - 0s 30ms/step - loss: 0.0822 - val_loss: 0.0374\n",
            "Epoch 18/400\n",
            "1/1 [==============================] - 0s 30ms/step - loss: 0.0822 - val_loss: 0.0374\n",
            "Epoch 19/400\n",
            "1/1 [==============================] - 0s 33ms/step - loss: 0.0822 - val_loss: 0.0374\n",
            "Epoch 20/400\n",
            "1/1 [==============================] - 0s 33ms/step - loss: 0.0822 - val_loss: 0.0374\n",
            "Epoch 21/400\n",
            "1/1 [==============================] - 0s 32ms/step - loss: 0.0822 - val_loss: 0.0373\n",
            "Epoch 22/400\n",
            "1/1 [==============================] - 0s 31ms/step - loss: 0.0822 - val_loss: 0.0373\n",
            "Epoch 23/400\n",
            "1/1 [==============================] - 0s 32ms/step - loss: 0.0822 - val_loss: 0.0373\n",
            "Epoch 24/400\n",
            "1/1 [==============================] - 0s 30ms/step - loss: 0.0822 - val_loss: 0.0373\n",
            "Epoch 25/400\n",
            "1/1 [==============================] - 0s 51ms/step - loss: 0.0821 - val_loss: 0.0373\n",
            "Epoch 26/400\n",
            "1/1 [==============================] - 0s 32ms/step - loss: 0.0821 - val_loss: 0.0373\n",
            "Epoch 27/400\n",
            "1/1 [==============================] - 0s 31ms/step - loss: 0.0821 - val_loss: 0.0373\n",
            "Epoch 28/400\n",
            "1/1 [==============================] - 0s 31ms/step - loss: 0.0821 - val_loss: 0.0372\n",
            "Epoch 29/400\n",
            "1/1 [==============================] - 0s 28ms/step - loss: 0.0821 - val_loss: 0.0372\n",
            "Epoch 30/400\n",
            "1/1 [==============================] - 0s 38ms/step - loss: 0.0820 - val_loss: 0.0372\n",
            "Epoch 31/400\n",
            "1/1 [==============================] - 0s 37ms/step - loss: 0.0820 - val_loss: 0.0372\n",
            "Epoch 32/400\n",
            "1/1 [==============================] - 0s 30ms/step - loss: 0.0820 - val_loss: 0.0372\n",
            "Epoch 33/400\n",
            "1/1 [==============================] - 0s 35ms/step - loss: 0.0820 - val_loss: 0.0372\n",
            "Epoch 34/400\n",
            "1/1 [==============================] - 0s 32ms/step - loss: 0.0820 - val_loss: 0.0371\n",
            "Epoch 35/400\n",
            "1/1 [==============================] - 0s 28ms/step - loss: 0.0819 - val_loss: 0.0371\n",
            "Epoch 36/400\n",
            "1/1 [==============================] - 0s 30ms/step - loss: 0.0819 - val_loss: 0.0371\n",
            "Epoch 37/400\n",
            "1/1 [==============================] - 0s 26ms/step - loss: 0.0819 - val_loss: 0.0371\n",
            "Epoch 38/400\n",
            "1/1 [==============================] - 0s 31ms/step - loss: 0.0819 - val_loss: 0.0371\n",
            "Epoch 39/400\n",
            "1/1 [==============================] - 0s 28ms/step - loss: 0.0818 - val_loss: 0.0370\n",
            "Epoch 40/400\n",
            "1/1 [==============================] - 0s 33ms/step - loss: 0.0818 - val_loss: 0.0370\n",
            "Epoch 41/400\n",
            "1/1 [==============================] - 0s 33ms/step - loss: 0.0818 - val_loss: 0.0370\n",
            "Epoch 42/400\n",
            "1/1 [==============================] - 0s 29ms/step - loss: 0.0817 - val_loss: 0.0370\n",
            "Epoch 43/400\n",
            "1/1 [==============================] - 0s 32ms/step - loss: 0.0817 - val_loss: 0.0369\n",
            "Epoch 44/400\n",
            "1/1 [==============================] - 0s 29ms/step - loss: 0.0817 - val_loss: 0.0369\n",
            "Epoch 45/400\n",
            "1/1 [==============================] - 0s 32ms/step - loss: 0.0817 - val_loss: 0.0369\n",
            "Epoch 46/400\n",
            "1/1 [==============================] - 0s 34ms/step - loss: 0.0816 - val_loss: 0.0369\n",
            "Epoch 47/400\n",
            "1/1 [==============================] - 0s 29ms/step - loss: 0.0816 - val_loss: 0.0368\n",
            "Epoch 48/400\n",
            "1/1 [==============================] - 0s 32ms/step - loss: 0.0816 - val_loss: 0.0368\n",
            "Epoch 49/400\n",
            "1/1 [==============================] - 0s 30ms/step - loss: 0.0815 - val_loss: 0.0368\n",
            "Epoch 50/400\n",
            "1/1 [==============================] - 0s 28ms/step - loss: 0.0815 - val_loss: 0.0367\n",
            "Epoch 51/400\n",
            "1/1 [==============================] - 0s 34ms/step - loss: 0.0815 - val_loss: 0.0367\n",
            "Epoch 52/400\n",
            "1/1 [==============================] - 0s 29ms/step - loss: 0.0814 - val_loss: 0.0367\n",
            "Epoch 53/400\n",
            "1/1 [==============================] - 0s 29ms/step - loss: 0.0814 - val_loss: 0.0367\n",
            "Epoch 54/400\n",
            "1/1 [==============================] - 0s 28ms/step - loss: 0.0813 - val_loss: 0.0366\n",
            "Epoch 55/400\n",
            "1/1 [==============================] - 0s 29ms/step - loss: 0.0813 - val_loss: 0.0366\n",
            "Epoch 56/400\n",
            "1/1 [==============================] - 0s 27ms/step - loss: 0.0813 - val_loss: 0.0366\n",
            "Epoch 57/400\n",
            "1/1 [==============================] - 0s 28ms/step - loss: 0.0812 - val_loss: 0.0365\n",
            "Epoch 58/400\n",
            "1/1 [==============================] - 0s 31ms/step - loss: 0.0812 - val_loss: 0.0365\n",
            "Epoch 59/400\n",
            "1/1 [==============================] - 0s 31ms/step - loss: 0.0811 - val_loss: 0.0365\n",
            "Epoch 60/400\n",
            "1/1 [==============================] - 0s 37ms/step - loss: 0.0811 - val_loss: 0.0364\n",
            "Epoch 61/400\n",
            "1/1 [==============================] - 0s 33ms/step - loss: 0.0811 - val_loss: 0.0364\n",
            "Epoch 62/400\n",
            "1/1 [==============================] - 0s 31ms/step - loss: 0.0810 - val_loss: 0.0364\n",
            "Epoch 63/400\n",
            "1/1 [==============================] - 0s 30ms/step - loss: 0.0810 - val_loss: 0.0363\n",
            "Epoch 64/400\n",
            "1/1 [==============================] - 0s 30ms/step - loss: 0.0809 - val_loss: 0.0363\n",
            "Epoch 65/400\n",
            "1/1 [==============================] - 0s 32ms/step - loss: 0.0809 - val_loss: 0.0362\n",
            "Epoch 66/400\n",
            "1/1 [==============================] - 0s 34ms/step - loss: 0.0808 - val_loss: 0.0362\n",
            "Epoch 67/400\n",
            "1/1 [==============================] - 0s 30ms/step - loss: 0.0808 - val_loss: 0.0362\n",
            "Epoch 68/400\n",
            "1/1 [==============================] - 0s 29ms/step - loss: 0.0807 - val_loss: 0.0361\n",
            "Epoch 69/400\n",
            "1/1 [==============================] - 0s 31ms/step - loss: 0.0807 - val_loss: 0.0361\n",
            "Epoch 70/400\n",
            "1/1 [==============================] - 0s 34ms/step - loss: 0.0806 - val_loss: 0.0361\n",
            "Epoch 71/400\n",
            "1/1 [==============================] - 0s 34ms/step - loss: 0.0806 - val_loss: 0.0360\n",
            "Epoch 72/400\n",
            "1/1 [==============================] - 0s 32ms/step - loss: 0.0805 - val_loss: 0.0360\n",
            "Epoch 73/400\n",
            "1/1 [==============================] - 0s 31ms/step - loss: 0.0805 - val_loss: 0.0359\n",
            "Epoch 74/400\n",
            "1/1 [==============================] - 0s 29ms/step - loss: 0.0804 - val_loss: 0.0359\n",
            "Epoch 75/400\n",
            "1/1 [==============================] - 0s 28ms/step - loss: 0.0804 - val_loss: 0.0359\n",
            "Epoch 76/400\n",
            "1/1 [==============================] - 0s 31ms/step - loss: 0.0803 - val_loss: 0.0358\n",
            "Epoch 77/400\n",
            "1/1 [==============================] - 0s 29ms/step - loss: 0.0803 - val_loss: 0.0358\n",
            "Epoch 78/400\n",
            "1/1 [==============================] - 0s 31ms/step - loss: 0.0802 - val_loss: 0.0357\n",
            "Epoch 79/400\n",
            "1/1 [==============================] - 0s 30ms/step - loss: 0.0802 - val_loss: 0.0357\n",
            "Epoch 80/400\n",
            "1/1 [==============================] - 0s 31ms/step - loss: 0.0801 - val_loss: 0.0356\n",
            "Epoch 81/400\n",
            "1/1 [==============================] - 0s 27ms/step - loss: 0.0801 - val_loss: 0.0356\n",
            "Epoch 82/400\n",
            "1/1 [==============================] - 0s 29ms/step - loss: 0.0800 - val_loss: 0.0355\n",
            "Epoch 83/400\n",
            "1/1 [==============================] - 0s 50ms/step - loss: 0.0800 - val_loss: 0.0355\n",
            "Epoch 84/400\n",
            "1/1 [==============================] - 0s 34ms/step - loss: 0.0799 - val_loss: 0.0355\n",
            "Epoch 85/400\n",
            "1/1 [==============================] - 0s 34ms/step - loss: 0.0798 - val_loss: 0.0354\n",
            "Epoch 86/400\n",
            "1/1 [==============================] - 0s 36ms/step - loss: 0.0798 - val_loss: 0.0354\n",
            "Epoch 87/400\n",
            "1/1 [==============================] - 0s 32ms/step - loss: 0.0797 - val_loss: 0.0353\n",
            "Epoch 88/400\n",
            "1/1 [==============================] - 0s 36ms/step - loss: 0.0797 - val_loss: 0.0353\n",
            "Epoch 89/400\n",
            "1/1 [==============================] - 0s 35ms/step - loss: 0.0796 - val_loss: 0.0352\n",
            "Epoch 90/400\n",
            "1/1 [==============================] - 0s 34ms/step - loss: 0.0795 - val_loss: 0.0352\n",
            "Epoch 91/400\n",
            "1/1 [==============================] - 0s 34ms/step - loss: 0.0795 - val_loss: 0.0351\n",
            "Epoch 92/400\n",
            "1/1 [==============================] - 0s 32ms/step - loss: 0.0794 - val_loss: 0.0351\n",
            "Epoch 93/400\n",
            "1/1 [==============================] - 0s 35ms/step - loss: 0.0793 - val_loss: 0.0350\n",
            "Epoch 94/400\n",
            "1/1 [==============================] - 0s 32ms/step - loss: 0.0793 - val_loss: 0.0350\n",
            "Epoch 95/400\n",
            "1/1 [==============================] - 0s 36ms/step - loss: 0.0792 - val_loss: 0.0349\n",
            "Epoch 96/400\n",
            "1/1 [==============================] - 0s 32ms/step - loss: 0.0791 - val_loss: 0.0349\n",
            "Epoch 97/400\n",
            "1/1 [==============================] - 0s 32ms/step - loss: 0.0791 - val_loss: 0.0348\n",
            "Epoch 98/400\n",
            "1/1 [==============================] - 0s 30ms/step - loss: 0.0790 - val_loss: 0.0347\n",
            "Epoch 99/400\n",
            "1/1 [==============================] - 0s 46ms/step - loss: 0.0789 - val_loss: 0.0347\n",
            "Epoch 100/400\n",
            "1/1 [==============================] - 0s 58ms/step - loss: 0.0789 - val_loss: 0.0346\n",
            "Epoch 101/400\n",
            "1/1 [==============================] - 0s 32ms/step - loss: 0.0788 - val_loss: 0.0346\n",
            "Epoch 102/400\n",
            "1/1 [==============================] - 0s 34ms/step - loss: 0.0787 - val_loss: 0.0345\n",
            "Epoch 103/400\n",
            "1/1 [==============================] - 0s 36ms/step - loss: 0.0787 - val_loss: 0.0345\n",
            "Epoch 104/400\n",
            "1/1 [==============================] - 0s 32ms/step - loss: 0.0786 - val_loss: 0.0344\n",
            "Epoch 105/400\n",
            "1/1 [==============================] - 0s 30ms/step - loss: 0.0785 - val_loss: 0.0344\n",
            "Epoch 106/400\n",
            "1/1 [==============================] - 0s 34ms/step - loss: 0.0784 - val_loss: 0.0343\n",
            "Epoch 107/400\n",
            "1/1 [==============================] - 0s 28ms/step - loss: 0.0784 - val_loss: 0.0342\n",
            "Epoch 108/400\n",
            "1/1 [==============================] - 0s 33ms/step - loss: 0.0783 - val_loss: 0.0342\n",
            "Epoch 109/400\n",
            "1/1 [==============================] - 0s 33ms/step - loss: 0.0782 - val_loss: 0.0341\n",
            "Epoch 110/400\n",
            "1/1 [==============================] - 0s 32ms/step - loss: 0.0781 - val_loss: 0.0341\n",
            "Epoch 111/400\n",
            "1/1 [==============================] - 0s 30ms/step - loss: 0.0781 - val_loss: 0.0340\n",
            "Epoch 112/400\n",
            "1/1 [==============================] - 0s 31ms/step - loss: 0.0780 - val_loss: 0.0340\n",
            "Epoch 113/400\n",
            "1/1 [==============================] - 0s 29ms/step - loss: 0.0779 - val_loss: 0.0339\n",
            "Epoch 114/400\n",
            "1/1 [==============================] - 0s 30ms/step - loss: 0.0778 - val_loss: 0.0338\n",
            "Epoch 115/400\n",
            "1/1 [==============================] - 0s 35ms/step - loss: 0.0778 - val_loss: 0.0338\n",
            "Epoch 116/400\n",
            "1/1 [==============================] - 0s 29ms/step - loss: 0.0777 - val_loss: 0.0337\n",
            "Epoch 117/400\n",
            "1/1 [==============================] - 0s 28ms/step - loss: 0.0776 - val_loss: 0.0336\n",
            "Epoch 118/400\n",
            "1/1 [==============================] - 0s 36ms/step - loss: 0.0775 - val_loss: 0.0336\n",
            "Epoch 119/400\n",
            "1/1 [==============================] - 0s 32ms/step - loss: 0.0774 - val_loss: 0.0335\n",
            "Epoch 120/400\n",
            "1/1 [==============================] - 0s 31ms/step - loss: 0.0773 - val_loss: 0.0335\n",
            "Epoch 121/400\n",
            "1/1 [==============================] - 0s 29ms/step - loss: 0.0773 - val_loss: 0.0334\n",
            "Epoch 122/400\n",
            "1/1 [==============================] - 0s 31ms/step - loss: 0.0772 - val_loss: 0.0333\n",
            "Epoch 123/400\n",
            "1/1 [==============================] - 0s 29ms/step - loss: 0.0771 - val_loss: 0.0333\n",
            "Epoch 124/400\n",
            "1/1 [==============================] - 0s 35ms/step - loss: 0.0770 - val_loss: 0.0332\n",
            "Epoch 125/400\n",
            "1/1 [==============================] - 0s 36ms/step - loss: 0.0769 - val_loss: 0.0331\n",
            "Epoch 126/400\n",
            "1/1 [==============================] - 0s 33ms/step - loss: 0.0768 - val_loss: 0.0331\n",
            "Epoch 127/400\n",
            "1/1 [==============================] - 0s 31ms/step - loss: 0.0767 - val_loss: 0.0330\n",
            "Epoch 128/400\n",
            "1/1 [==============================] - 0s 31ms/step - loss: 0.0766 - val_loss: 0.0329\n",
            "Epoch 129/400\n",
            "1/1 [==============================] - 0s 31ms/step - loss: 0.0765 - val_loss: 0.0329\n",
            "Epoch 130/400\n",
            "1/1 [==============================] - 0s 31ms/step - loss: 0.0764 - val_loss: 0.0328\n",
            "Epoch 131/400\n",
            "1/1 [==============================] - 0s 30ms/step - loss: 0.0764 - val_loss: 0.0327\n",
            "Epoch 132/400\n",
            "1/1 [==============================] - 0s 50ms/step - loss: 0.0763 - val_loss: 0.0327\n",
            "Epoch 133/400\n",
            "1/1 [==============================] - 0s 34ms/step - loss: 0.0762 - val_loss: 0.0326\n",
            "Epoch 134/400\n",
            "1/1 [==============================] - 0s 34ms/step - loss: 0.0761 - val_loss: 0.0325\n",
            "Epoch 135/400\n",
            "1/1 [==============================] - 0s 34ms/step - loss: 0.0760 - val_loss: 0.0325\n",
            "Epoch 136/400\n",
            "1/1 [==============================] - 0s 34ms/step - loss: 0.0759 - val_loss: 0.0324\n",
            "Epoch 137/400\n",
            "1/1 [==============================] - 0s 34ms/step - loss: 0.0758 - val_loss: 0.0323\n",
            "Epoch 138/400\n",
            "1/1 [==============================] - 0s 31ms/step - loss: 0.0757 - val_loss: 0.0322\n",
            "Epoch 139/400\n",
            "1/1 [==============================] - 0s 30ms/step - loss: 0.0756 - val_loss: 0.0322\n",
            "Epoch 140/400\n",
            "1/1 [==============================] - 0s 31ms/step - loss: 0.0755 - val_loss: 0.0321\n",
            "Epoch 141/400\n",
            "1/1 [==============================] - 0s 34ms/step - loss: 0.0754 - val_loss: 0.0320\n",
            "Epoch 142/400\n",
            "1/1 [==============================] - 0s 37ms/step - loss: 0.0753 - val_loss: 0.0319\n",
            "Epoch 143/400\n",
            "1/1 [==============================] - 0s 39ms/step - loss: 0.0751 - val_loss: 0.0319\n",
            "Epoch 144/400\n",
            "1/1 [==============================] - 0s 31ms/step - loss: 0.0750 - val_loss: 0.0318\n",
            "Epoch 145/400\n",
            "1/1 [==============================] - 0s 34ms/step - loss: 0.0749 - val_loss: 0.0317\n",
            "Epoch 146/400\n",
            "1/1 [==============================] - 0s 33ms/step - loss: 0.0748 - val_loss: 0.0317\n",
            "Epoch 147/400\n",
            "1/1 [==============================] - 0s 35ms/step - loss: 0.0747 - val_loss: 0.0316\n",
            "Epoch 148/400\n",
            "1/1 [==============================] - 0s 33ms/step - loss: 0.0746 - val_loss: 0.0315\n",
            "Epoch 149/400\n",
            "1/1 [==============================] - 0s 32ms/step - loss: 0.0745 - val_loss: 0.0314\n",
            "Epoch 150/400\n",
            "1/1 [==============================] - 0s 33ms/step - loss: 0.0744 - val_loss: 0.0314\n",
            "Epoch 151/400\n",
            "1/1 [==============================] - 0s 39ms/step - loss: 0.0743 - val_loss: 0.0313\n",
            "Epoch 152/400\n",
            "1/1 [==============================] - 0s 30ms/step - loss: 0.0741 - val_loss: 0.0312\n",
            "Epoch 153/400\n",
            "1/1 [==============================] - 0s 38ms/step - loss: 0.0740 - val_loss: 0.0311\n",
            "Epoch 154/400\n",
            "1/1 [==============================] - 0s 31ms/step - loss: 0.0739 - val_loss: 0.0310\n",
            "Epoch 155/400\n",
            "1/1 [==============================] - 0s 35ms/step - loss: 0.0738 - val_loss: 0.0310\n",
            "Epoch 156/400\n",
            "1/1 [==============================] - 0s 34ms/step - loss: 0.0737 - val_loss: 0.0309\n",
            "Epoch 157/400\n",
            "1/1 [==============================] - 0s 37ms/step - loss: 0.0735 - val_loss: 0.0308\n",
            "Epoch 158/400\n",
            "1/1 [==============================] - 0s 34ms/step - loss: 0.0734 - val_loss: 0.0307\n",
            "Epoch 159/400\n",
            "1/1 [==============================] - 0s 33ms/step - loss: 0.0733 - val_loss: 0.0307\n",
            "Epoch 160/400\n",
            "1/1 [==============================] - 0s 35ms/step - loss: 0.0732 - val_loss: 0.0306\n",
            "Epoch 161/400\n",
            "1/1 [==============================] - 0s 32ms/step - loss: 0.0730 - val_loss: 0.0305\n",
            "Epoch 162/400\n",
            "1/1 [==============================] - 0s 37ms/step - loss: 0.0729 - val_loss: 0.0304\n",
            "Epoch 163/400\n",
            "1/1 [==============================] - 0s 32ms/step - loss: 0.0728 - val_loss: 0.0303\n",
            "Epoch 164/400\n",
            "1/1 [==============================] - 0s 33ms/step - loss: 0.0726 - val_loss: 0.0302\n",
            "Epoch 165/400\n",
            "1/1 [==============================] - 0s 31ms/step - loss: 0.0725 - val_loss: 0.0302\n",
            "Epoch 166/400\n",
            "1/1 [==============================] - 0s 34ms/step - loss: 0.0724 - val_loss: 0.0301\n",
            "Epoch 167/400\n",
            "1/1 [==============================] - 0s 35ms/step - loss: 0.0722 - val_loss: 0.0300\n",
            "Epoch 168/400\n",
            "1/1 [==============================] - 0s 30ms/step - loss: 0.0721 - val_loss: 0.0299\n",
            "Epoch 169/400\n",
            "1/1 [==============================] - 0s 31ms/step - loss: 0.0720 - val_loss: 0.0298\n",
            "Epoch 170/400\n",
            "1/1 [==============================] - 0s 42ms/step - loss: 0.0718 - val_loss: 0.0298\n",
            "Epoch 171/400\n",
            "1/1 [==============================] - 0s 35ms/step - loss: 0.0717 - val_loss: 0.0297\n",
            "Epoch 172/400\n",
            "1/1 [==============================] - 0s 35ms/step - loss: 0.0715 - val_loss: 0.0296\n",
            "Epoch 173/400\n",
            "1/1 [==============================] - 0s 35ms/step - loss: 0.0714 - val_loss: 0.0295\n",
            "Epoch 174/400\n",
            "1/1 [==============================] - 0s 33ms/step - loss: 0.0712 - val_loss: 0.0294\n",
            "Epoch 175/400\n",
            "1/1 [==============================] - 0s 39ms/step - loss: 0.0711 - val_loss: 0.0293\n",
            "Epoch 176/400\n",
            "1/1 [==============================] - 0s 31ms/step - loss: 0.0709 - val_loss: 0.0293\n",
            "Epoch 177/400\n",
            "1/1 [==============================] - 0s 33ms/step - loss: 0.0708 - val_loss: 0.0292\n",
            "Epoch 178/400\n",
            "1/1 [==============================] - 0s 31ms/step - loss: 0.0706 - val_loss: 0.0291\n",
            "Epoch 179/400\n",
            "1/1 [==============================] - 0s 33ms/step - loss: 0.0705 - val_loss: 0.0290\n",
            "Epoch 180/400\n",
            "1/1 [==============================] - 0s 37ms/step - loss: 0.0703 - val_loss: 0.0289\n",
            "Epoch 181/400\n",
            "1/1 [==============================] - 0s 33ms/step - loss: 0.0702 - val_loss: 0.0288\n",
            "Epoch 182/400\n",
            "1/1 [==============================] - 0s 35ms/step - loss: 0.0700 - val_loss: 0.0288\n",
            "Epoch 183/400\n",
            "1/1 [==============================] - 0s 34ms/step - loss: 0.0698 - val_loss: 0.0287\n",
            "Epoch 184/400\n",
            "1/1 [==============================] - 0s 32ms/step - loss: 0.0697 - val_loss: 0.0286\n",
            "Epoch 185/400\n",
            "1/1 [==============================] - 0s 35ms/step - loss: 0.0695 - val_loss: 0.0285\n",
            "Epoch 186/400\n",
            "1/1 [==============================] - 0s 29ms/step - loss: 0.0693 - val_loss: 0.0284\n",
            "Epoch 187/400\n",
            "1/1 [==============================] - 0s 29ms/step - loss: 0.0692 - val_loss: 0.0283\n",
            "Epoch 188/400\n",
            "1/1 [==============================] - 0s 32ms/step - loss: 0.0690 - val_loss: 0.0283\n",
            "Epoch 189/400\n",
            "1/1 [==============================] - 0s 36ms/step - loss: 0.0688 - val_loss: 0.0282\n",
            "Epoch 190/400\n",
            "1/1 [==============================] - 0s 35ms/step - loss: 0.0687 - val_loss: 0.0281\n",
            "Epoch 191/400\n",
            "1/1 [==============================] - 0s 33ms/step - loss: 0.0685 - val_loss: 0.0280\n",
            "Epoch 192/400\n",
            "1/1 [==============================] - 0s 36ms/step - loss: 0.0683 - val_loss: 0.0279\n",
            "Epoch 193/400\n",
            "1/1 [==============================] - 0s 34ms/step - loss: 0.0681 - val_loss: 0.0278\n",
            "Epoch 194/400\n",
            "1/1 [==============================] - 0s 33ms/step - loss: 0.0679 - val_loss: 0.0278\n",
            "Epoch 195/400\n",
            "1/1 [==============================] - 0s 30ms/step - loss: 0.0677 - val_loss: 0.0277\n",
            "Epoch 196/400\n",
            "1/1 [==============================] - 0s 33ms/step - loss: 0.0676 - val_loss: 0.0276\n",
            "Epoch 197/400\n",
            "1/1 [==============================] - 0s 37ms/step - loss: 0.0674 - val_loss: 0.0275\n",
            "Epoch 198/400\n",
            "1/1 [==============================] - 0s 36ms/step - loss: 0.0672 - val_loss: 0.0274\n",
            "Epoch 199/400\n",
            "1/1 [==============================] - 0s 33ms/step - loss: 0.0670 - val_loss: 0.0273\n",
            "Epoch 200/400\n",
            "1/1 [==============================] - 0s 35ms/step - loss: 0.0668 - val_loss: 0.0273\n",
            "Epoch 201/400\n",
            "1/1 [==============================] - 0s 33ms/step - loss: 0.0666 - val_loss: 0.0272\n",
            "Epoch 202/400\n",
            "1/1 [==============================] - 0s 31ms/step - loss: 0.0664 - val_loss: 0.0271\n",
            "Epoch 203/400\n",
            "1/1 [==============================] - 0s 32ms/step - loss: 0.0662 - val_loss: 0.0270\n",
            "Epoch 204/400\n",
            "1/1 [==============================] - 0s 28ms/step - loss: 0.0660 - val_loss: 0.0270\n",
            "Epoch 205/400\n",
            "1/1 [==============================] - 0s 30ms/step - loss: 0.0658 - val_loss: 0.0269\n",
            "Epoch 206/400\n",
            "1/1 [==============================] - 0s 31ms/step - loss: 0.0656 - val_loss: 0.0268\n",
            "Epoch 207/400\n",
            "1/1 [==============================] - 0s 32ms/step - loss: 0.0654 - val_loss: 0.0267\n",
            "Epoch 208/400\n",
            "1/1 [==============================] - 0s 28ms/step - loss: 0.0651 - val_loss: 0.0267\n",
            "Epoch 209/400\n",
            "1/1 [==============================] - 0s 27ms/step - loss: 0.0649 - val_loss: 0.0266\n",
            "Epoch 210/400\n",
            "1/1 [==============================] - 0s 29ms/step - loss: 0.0647 - val_loss: 0.0265\n",
            "Epoch 211/400\n",
            "1/1 [==============================] - 0s 29ms/step - loss: 0.0645 - val_loss: 0.0264\n",
            "Epoch 212/400\n",
            "1/1 [==============================] - 0s 31ms/step - loss: 0.0643 - val_loss: 0.0264\n",
            "Epoch 213/400\n",
            "1/1 [==============================] - 0s 33ms/step - loss: 0.0640 - val_loss: 0.0263\n",
            "Epoch 214/400\n",
            "1/1 [==============================] - 0s 34ms/step - loss: 0.0638 - val_loss: 0.0262\n",
            "Epoch 215/400\n",
            "1/1 [==============================] - 0s 32ms/step - loss: 0.0636 - val_loss: 0.0262\n",
            "Epoch 216/400\n",
            "1/1 [==============================] - 0s 36ms/step - loss: 0.0633 - val_loss: 0.0261\n",
            "Epoch 217/400\n",
            "1/1 [==============================] - 0s 33ms/step - loss: 0.0631 - val_loss: 0.0260\n",
            "Epoch 218/400\n",
            "1/1 [==============================] - 0s 35ms/step - loss: 0.0629 - val_loss: 0.0260\n",
            "Epoch 219/400\n",
            "1/1 [==============================] - 0s 34ms/step - loss: 0.0626 - val_loss: 0.0259\n",
            "Epoch 220/400\n",
            "1/1 [==============================] - 0s 36ms/step - loss: 0.0624 - val_loss: 0.0258\n",
            "Epoch 221/400\n",
            "1/1 [==============================] - 0s 34ms/step - loss: 0.0621 - val_loss: 0.0258\n",
            "Epoch 222/400\n",
            "1/1 [==============================] - 0s 36ms/step - loss: 0.0619 - val_loss: 0.0257\n",
            "Epoch 223/400\n",
            "1/1 [==============================] - 0s 37ms/step - loss: 0.0616 - val_loss: 0.0257\n",
            "Epoch 224/400\n",
            "1/1 [==============================] - 0s 37ms/step - loss: 0.0614 - val_loss: 0.0256\n",
            "Epoch 225/400\n",
            "1/1 [==============================] - 0s 39ms/step - loss: 0.0611 - val_loss: 0.0256\n",
            "Epoch 226/400\n",
            "1/1 [==============================] - 0s 32ms/step - loss: 0.0609 - val_loss: 0.0255\n",
            "Epoch 227/400\n",
            "1/1 [==============================] - 0s 34ms/step - loss: 0.0606 - val_loss: 0.0255\n",
            "Epoch 228/400\n",
            "1/1 [==============================] - 0s 31ms/step - loss: 0.0603 - val_loss: 0.0254\n",
            "Epoch 229/400\n",
            "1/1 [==============================] - 0s 31ms/step - loss: 0.0601 - val_loss: 0.0254\n",
            "Epoch 230/400\n",
            "1/1 [==============================] - 0s 30ms/step - loss: 0.0598 - val_loss: 0.0253\n",
            "Epoch 231/400\n",
            "1/1 [==============================] - 0s 32ms/step - loss: 0.0595 - val_loss: 0.0253\n",
            "Epoch 232/400\n",
            "1/1 [==============================] - 0s 36ms/step - loss: 0.0593 - val_loss: 0.0252\n",
            "Epoch 233/400\n",
            "1/1 [==============================] - 0s 35ms/step - loss: 0.0590 - val_loss: 0.0252\n",
            "Epoch 234/400\n",
            "1/1 [==============================] - 0s 36ms/step - loss: 0.0587 - val_loss: 0.0252\n",
            "Epoch 235/400\n",
            "1/1 [==============================] - 0s 35ms/step - loss: 0.0584 - val_loss: 0.0251\n",
            "Epoch 236/400\n",
            "1/1 [==============================] - 0s 37ms/step - loss: 0.0581 - val_loss: 0.0251\n",
            "Epoch 237/400\n",
            "1/1 [==============================] - 0s 35ms/step - loss: 0.0578 - val_loss: 0.0251\n",
            "Epoch 238/400\n",
            "1/1 [==============================] - 0s 36ms/step - loss: 0.0575 - val_loss: 0.0250\n",
            "Epoch 239/400\n",
            "1/1 [==============================] - 0s 36ms/step - loss: 0.0572 - val_loss: 0.0250\n",
            "Epoch 240/400\n",
            "1/1 [==============================] - 0s 40ms/step - loss: 0.0569 - val_loss: 0.0250\n",
            "Epoch 241/400\n",
            "1/1 [==============================] - 0s 35ms/step - loss: 0.0566 - val_loss: 0.0249\n",
            "Epoch 242/400\n",
            "1/1 [==============================] - 0s 35ms/step - loss: 0.0563 - val_loss: 0.0249\n",
            "Epoch 243/400\n",
            "1/1 [==============================] - 0s 35ms/step - loss: 0.0560 - val_loss: 0.0249\n",
            "Epoch 244/400\n",
            "1/1 [==============================] - 0s 32ms/step - loss: 0.0557 - val_loss: 0.0248\n",
            "Epoch 245/400\n",
            "1/1 [==============================] - 0s 31ms/step - loss: 0.0553 - val_loss: 0.0248\n",
            "Epoch 246/400\n",
            "1/1 [==============================] - 0s 35ms/step - loss: 0.0550 - val_loss: 0.0248\n",
            "Epoch 247/400\n",
            "1/1 [==============================] - 0s 35ms/step - loss: 0.0547 - val_loss: 0.0248\n",
            "Epoch 248/400\n",
            "1/1 [==============================] - 0s 37ms/step - loss: 0.0543 - val_loss: 0.0247\n",
            "Epoch 249/400\n",
            "1/1 [==============================] - 0s 36ms/step - loss: 0.0540 - val_loss: 0.0247\n",
            "Epoch 250/400\n",
            "1/1 [==============================] - 0s 33ms/step - loss: 0.0536 - val_loss: 0.0247\n",
            "Epoch 251/400\n",
            "1/1 [==============================] - 0s 38ms/step - loss: 0.0533 - val_loss: 0.0246\n",
            "Epoch 252/400\n",
            "1/1 [==============================] - 0s 41ms/step - loss: 0.0529 - val_loss: 0.0246\n",
            "Epoch 253/400\n",
            "1/1 [==============================] - 0s 33ms/step - loss: 0.0525 - val_loss: 0.0246\n",
            "Epoch 254/400\n",
            "1/1 [==============================] - 0s 36ms/step - loss: 0.0522 - val_loss: 0.0246\n",
            "Epoch 255/400\n",
            "1/1 [==============================] - 0s 33ms/step - loss: 0.0518 - val_loss: 0.0245\n",
            "Epoch 256/400\n",
            "1/1 [==============================] - 0s 36ms/step - loss: 0.0514 - val_loss: 0.0245\n",
            "Epoch 257/400\n",
            "1/1 [==============================] - 0s 41ms/step - loss: 0.0510 - val_loss: 0.0245\n",
            "Epoch 258/400\n",
            "1/1 [==============================] - 0s 33ms/step - loss: 0.0507 - val_loss: 0.0244\n",
            "Epoch 259/400\n",
            "1/1 [==============================] - 0s 35ms/step - loss: 0.0503 - val_loss: 0.0244\n",
            "Epoch 260/400\n",
            "1/1 [==============================] - 0s 34ms/step - loss: 0.0499 - val_loss: 0.0244\n",
            "Epoch 261/400\n",
            "1/1 [==============================] - 0s 36ms/step - loss: 0.0495 - val_loss: 0.0244\n",
            "Epoch 262/400\n",
            "1/1 [==============================] - 0s 33ms/step - loss: 0.0491 - val_loss: 0.0243\n",
            "Epoch 263/400\n",
            "1/1 [==============================] - 0s 33ms/step - loss: 0.0487 - val_loss: 0.0243\n",
            "Epoch 264/400\n",
            "1/1 [==============================] - 0s 33ms/step - loss: 0.0483 - val_loss: 0.0243\n",
            "Epoch 265/400\n",
            "1/1 [==============================] - 0s 31ms/step - loss: 0.0479 - val_loss: 0.0242\n",
            "Epoch 266/400\n",
            "1/1 [==============================] - 0s 33ms/step - loss: 0.0474 - val_loss: 0.0242\n",
            "Epoch 267/400\n",
            "1/1 [==============================] - 0s 37ms/step - loss: 0.0470 - val_loss: 0.0242\n",
            "Epoch 268/400\n",
            "1/1 [==============================] - 0s 38ms/step - loss: 0.0466 - val_loss: 0.0241\n",
            "Epoch 269/400\n",
            "1/1 [==============================] - 0s 33ms/step - loss: 0.0462 - val_loss: 0.0241\n",
            "Epoch 270/400\n",
            "1/1 [==============================] - 0s 37ms/step - loss: 0.0458 - val_loss: 0.0240\n",
            "Epoch 271/400\n",
            "1/1 [==============================] - 0s 35ms/step - loss: 0.0454 - val_loss: 0.0240\n",
            "Epoch 272/400\n",
            "1/1 [==============================] - 0s 35ms/step - loss: 0.0450 - val_loss: 0.0240\n",
            "Epoch 273/400\n",
            "1/1 [==============================] - 0s 32ms/step - loss: 0.0446 - val_loss: 0.0239\n",
            "Epoch 274/400\n",
            "1/1 [==============================] - 0s 34ms/step - loss: 0.0442 - val_loss: 0.0239\n",
            "Epoch 275/400\n",
            "1/1 [==============================] - 0s 32ms/step - loss: 0.0438 - val_loss: 0.0239\n",
            "Epoch 276/400\n",
            "1/1 [==============================] - 0s 35ms/step - loss: 0.0434 - val_loss: 0.0238\n",
            "Epoch 277/400\n",
            "1/1 [==============================] - 0s 30ms/step - loss: 0.0430 - val_loss: 0.0238\n",
            "Epoch 278/400\n",
            "1/1 [==============================] - 0s 35ms/step - loss: 0.0426 - val_loss: 0.0237\n",
            "Epoch 279/400\n",
            "1/1 [==============================] - 0s 42ms/step - loss: 0.0422 - val_loss: 0.0237\n",
            "Epoch 280/400\n",
            "1/1 [==============================] - 0s 35ms/step - loss: 0.0418 - val_loss: 0.0237\n",
            "Epoch 281/400\n",
            "1/1 [==============================] - 0s 35ms/step - loss: 0.0414 - val_loss: 0.0236\n",
            "Epoch 282/400\n",
            "1/1 [==============================] - 0s 29ms/step - loss: 0.0411 - val_loss: 0.0236\n",
            "Epoch 283/400\n",
            "1/1 [==============================] - 0s 32ms/step - loss: 0.0407 - val_loss: 0.0236\n",
            "Epoch 284/400\n",
            "1/1 [==============================] - 0s 38ms/step - loss: 0.0403 - val_loss: 0.0236\n",
            "Epoch 285/400\n",
            "1/1 [==============================] - 0s 35ms/step - loss: 0.0400 - val_loss: 0.0235\n",
            "Epoch 286/400\n",
            "1/1 [==============================] - 0s 32ms/step - loss: 0.0396 - val_loss: 0.0235\n",
            "Epoch 287/400\n",
            "1/1 [==============================] - 0s 36ms/step - loss: 0.0393 - val_loss: 0.0235\n",
            "Epoch 288/400\n",
            "1/1 [==============================] - 0s 32ms/step - loss: 0.0390 - val_loss: 0.0235\n",
            "Epoch 289/400\n",
            "1/1 [==============================] - 0s 32ms/step - loss: 0.0386 - val_loss: 0.0235\n",
            "Epoch 290/400\n",
            "1/1 [==============================] - 0s 34ms/step - loss: 0.0383 - val_loss: 0.0235\n",
            "Epoch 291/400\n",
            "1/1 [==============================] - 0s 32ms/step - loss: 0.0380 - val_loss: 0.0235\n",
            "Epoch 292/400\n",
            "1/1 [==============================] - 0s 36ms/step - loss: 0.0377 - val_loss: 0.0235\n",
            "Epoch 293/400\n",
            "1/1 [==============================] - 0s 33ms/step - loss: 0.0374 - val_loss: 0.0235\n",
            "Epoch 294/400\n",
            "1/1 [==============================] - 0s 35ms/step - loss: 0.0371 - val_loss: 0.0235\n",
            "Epoch 295/400\n",
            "1/1 [==============================] - 0s 37ms/step - loss: 0.0368 - val_loss: 0.0235\n",
            "Epoch 296/400\n",
            "1/1 [==============================] - 0s 34ms/step - loss: 0.0365 - val_loss: 0.0236\n",
            "Epoch 297/400\n",
            "1/1 [==============================] - 0s 36ms/step - loss: 0.0362 - val_loss: 0.0236\n",
            "Epoch 298/400\n",
            "1/1 [==============================] - 0s 31ms/step - loss: 0.0359 - val_loss: 0.0236\n",
            "Epoch 299/400\n",
            "1/1 [==============================] - 0s 33ms/step - loss: 0.0356 - val_loss: 0.0237\n",
            "Epoch 300/400\n",
            "1/1 [==============================] - 0s 40ms/step - loss: 0.0353 - val_loss: 0.0237\n",
            "Epoch 301/400\n",
            "1/1 [==============================] - 0s 36ms/step - loss: 0.0351 - val_loss: 0.0237\n",
            "Epoch 302/400\n",
            "1/1 [==============================] - 0s 37ms/step - loss: 0.0348 - val_loss: 0.0238\n",
            "Epoch 303/400\n",
            "1/1 [==============================] - 0s 35ms/step - loss: 0.0345 - val_loss: 0.0239\n",
            "Epoch 304/400\n",
            "1/1 [==============================] - 0s 37ms/step - loss: 0.0342 - val_loss: 0.0239\n",
            "Epoch 305/400\n",
            "1/1 [==============================] - 0s 45ms/step - loss: 0.0340 - val_loss: 0.0240\n",
            "Epoch 306/400\n",
            "1/1 [==============================] - 0s 33ms/step - loss: 0.0337 - val_loss: 0.0241\n",
            "Epoch 307/400\n",
            "1/1 [==============================] - 0s 41ms/step - loss: 0.0334 - val_loss: 0.0242\n",
            "Epoch 308/400\n",
            "1/1 [==============================] - 0s 36ms/step - loss: 0.0332 - val_loss: 0.0242\n",
            "Epoch 309/400\n",
            "1/1 [==============================] - 0s 38ms/step - loss: 0.0329 - val_loss: 0.0243\n",
            "Epoch 310/400\n",
            "1/1 [==============================] - 0s 32ms/step - loss: 0.0326 - val_loss: 0.0244\n",
            "Epoch 311/400\n",
            "1/1 [==============================] - 0s 39ms/step - loss: 0.0324 - val_loss: 0.0245\n",
            "Epoch 312/400\n",
            "1/1 [==============================] - 0s 36ms/step - loss: 0.0321 - val_loss: 0.0246\n",
            "Epoch 313/400\n",
            "1/1 [==============================] - 0s 38ms/step - loss: 0.0319 - val_loss: 0.0247\n",
            "Epoch 314/400\n",
            "1/1 [==============================] - 0s 33ms/step - loss: 0.0316 - val_loss: 0.0248\n",
            "Epoch 315/400\n",
            "1/1 [==============================] - 0s 35ms/step - loss: 0.0313 - val_loss: 0.0250\n",
            "Epoch 316/400\n",
            "1/1 [==============================] - 0s 38ms/step - loss: 0.0311 - val_loss: 0.0251\n",
            "Epoch 317/400\n",
            "1/1 [==============================] - 0s 39ms/step - loss: 0.0308 - val_loss: 0.0252\n",
            "Epoch 318/400\n",
            "1/1 [==============================] - 0s 36ms/step - loss: 0.0306 - val_loss: 0.0253\n",
            "Epoch 319/400\n",
            "1/1 [==============================] - 0s 34ms/step - loss: 0.0303 - val_loss: 0.0255\n",
            "Epoch 320/400\n",
            "1/1 [==============================] - 0s 39ms/step - loss: 0.0301 - val_loss: 0.0256\n",
            "Epoch 321/400\n",
            "1/1 [==============================] - 0s 33ms/step - loss: 0.0298 - val_loss: 0.0257\n",
            "Epoch 322/400\n",
            "1/1 [==============================] - 0s 35ms/step - loss: 0.0296 - val_loss: 0.0259\n",
            "Epoch 323/400\n",
            "1/1 [==============================] - 0s 34ms/step - loss: 0.0294 - val_loss: 0.0260\n",
            "Epoch 324/400\n",
            "1/1 [==============================] - 0s 31ms/step - loss: 0.0291 - val_loss: 0.0261\n",
            "Epoch 325/400\n",
            "1/1 [==============================] - 0s 56ms/step - loss: 0.0289 - val_loss: 0.0263\n",
            "Epoch 326/400\n",
            "1/1 [==============================] - 0s 32ms/step - loss: 0.0286 - val_loss: 0.0264\n",
            "Epoch 327/400\n",
            "1/1 [==============================] - 0s 30ms/step - loss: 0.0284 - val_loss: 0.0265\n",
            "Epoch 328/400\n",
            "1/1 [==============================] - 0s 33ms/step - loss: 0.0282 - val_loss: 0.0267\n",
            "Epoch 329/400\n",
            "1/1 [==============================] - 0s 31ms/step - loss: 0.0279 - val_loss: 0.0268\n",
            "Epoch 330/400\n",
            "1/1 [==============================] - 0s 31ms/step - loss: 0.0277 - val_loss: 0.0270\n",
            "Epoch 331/400\n",
            "1/1 [==============================] - 0s 38ms/step - loss: 0.0275 - val_loss: 0.0271\n",
            "Epoch 332/400\n",
            "1/1 [==============================] - 0s 32ms/step - loss: 0.0273 - val_loss: 0.0273\n",
            "Epoch 333/400\n",
            "1/1 [==============================] - 0s 31ms/step - loss: 0.0270 - val_loss: 0.0274\n",
            "Epoch 334/400\n",
            "1/1 [==============================] - 0s 32ms/step - loss: 0.0268 - val_loss: 0.0275\n",
            "Epoch 335/400\n",
            "1/1 [==============================] - 0s 35ms/step - loss: 0.0266 - val_loss: 0.0277\n",
            "Epoch 336/400\n",
            "1/1 [==============================] - 0s 33ms/step - loss: 0.0264 - val_loss: 0.0278\n",
            "Epoch 337/400\n",
            "1/1 [==============================] - 0s 37ms/step - loss: 0.0262 - val_loss: 0.0280\n",
            "Epoch 338/400\n",
            "1/1 [==============================] - 0s 34ms/step - loss: 0.0259 - val_loss: 0.0281\n",
            "Epoch 339/400\n",
            "1/1 [==============================] - 0s 37ms/step - loss: 0.0257 - val_loss: 0.0282\n",
            "Epoch 340/400\n",
            "1/1 [==============================] - 0s 35ms/step - loss: 0.0255 - val_loss: 0.0284\n",
            "Epoch 341/400\n",
            "1/1 [==============================] - 0s 32ms/step - loss: 0.0253 - val_loss: 0.0285\n",
            "Epoch 342/400\n",
            "1/1 [==============================] - 0s 29ms/step - loss: 0.0251 - val_loss: 0.0287\n",
            "Epoch 343/400\n",
            "1/1 [==============================] - 0s 51ms/step - loss: 0.0249 - val_loss: 0.0288\n",
            "Epoch 344/400\n",
            "1/1 [==============================] - 0s 38ms/step - loss: 0.0247 - val_loss: 0.0289\n",
            "Epoch 345/400\n",
            "1/1 [==============================] - 0s 34ms/step - loss: 0.0245 - val_loss: 0.0291\n",
            "Epoch 346/400\n",
            "1/1 [==============================] - 0s 34ms/step - loss: 0.0243 - val_loss: 0.0292\n",
            "Epoch 347/400\n",
            "1/1 [==============================] - 0s 43ms/step - loss: 0.0241 - val_loss: 0.0293\n",
            "Epoch 348/400\n",
            "1/1 [==============================] - 0s 45ms/step - loss: 0.0240 - val_loss: 0.0295\n",
            "Epoch 349/400\n",
            "1/1 [==============================] - 0s 36ms/step - loss: 0.0238 - val_loss: 0.0296\n",
            "Epoch 350/400\n",
            "1/1 [==============================] - 0s 39ms/step - loss: 0.0236 - val_loss: 0.0297\n",
            "Epoch 351/400\n",
            "1/1 [==============================] - 0s 35ms/step - loss: 0.0234 - val_loss: 0.0299\n",
            "Epoch 352/400\n",
            "1/1 [==============================] - 0s 39ms/step - loss: 0.0232 - val_loss: 0.0300\n",
            "Epoch 353/400\n",
            "1/1 [==============================] - 0s 31ms/step - loss: 0.0230 - val_loss: 0.0301\n",
            "Epoch 354/400\n",
            "1/1 [==============================] - 0s 35ms/step - loss: 0.0229 - val_loss: 0.0303\n",
            "Epoch 355/400\n",
            "1/1 [==============================] - 0s 37ms/step - loss: 0.0227 - val_loss: 0.0304\n",
            "Epoch 356/400\n",
            "1/1 [==============================] - 0s 36ms/step - loss: 0.0225 - val_loss: 0.0305\n",
            "Epoch 357/400\n",
            "1/1 [==============================] - 0s 37ms/step - loss: 0.0223 - val_loss: 0.0306\n",
            "Epoch 358/400\n",
            "1/1 [==============================] - 0s 33ms/step - loss: 0.0222 - val_loss: 0.0308\n",
            "Epoch 359/400\n",
            "1/1 [==============================] - 0s 34ms/step - loss: 0.0220 - val_loss: 0.0309\n",
            "Epoch 360/400\n",
            "1/1 [==============================] - 0s 31ms/step - loss: 0.0218 - val_loss: 0.0310\n",
            "Epoch 361/400\n",
            "1/1 [==============================] - 0s 33ms/step - loss: 0.0216 - val_loss: 0.0311\n",
            "Epoch 362/400\n",
            "1/1 [==============================] - 0s 37ms/step - loss: 0.0215 - val_loss: 0.0312\n",
            "Epoch 363/400\n",
            "1/1 [==============================] - 0s 34ms/step - loss: 0.0213 - val_loss: 0.0313\n",
            "Epoch 364/400\n",
            "1/1 [==============================] - 0s 36ms/step - loss: 0.0212 - val_loss: 0.0314\n",
            "Epoch 365/400\n",
            "1/1 [==============================] - 0s 33ms/step - loss: 0.0210 - val_loss: 0.0316\n",
            "Epoch 366/400\n",
            "1/1 [==============================] - 0s 40ms/step - loss: 0.0208 - val_loss: 0.0317\n",
            "Epoch 367/400\n",
            "1/1 [==============================] - 0s 28ms/step - loss: 0.0207 - val_loss: 0.0317\n",
            "Epoch 368/400\n",
            "1/1 [==============================] - 0s 34ms/step - loss: 0.0205 - val_loss: 0.0318\n",
            "Epoch 369/400\n",
            "1/1 [==============================] - 0s 37ms/step - loss: 0.0204 - val_loss: 0.0319\n",
            "Epoch 370/400\n",
            "1/1 [==============================] - 0s 34ms/step - loss: 0.0202 - val_loss: 0.0320\n",
            "Epoch 371/400\n",
            "1/1 [==============================] - 0s 37ms/step - loss: 0.0201 - val_loss: 0.0321\n",
            "Epoch 372/400\n",
            "1/1 [==============================] - 0s 36ms/step - loss: 0.0199 - val_loss: 0.0322\n",
            "Epoch 373/400\n",
            "1/1 [==============================] - 0s 34ms/step - loss: 0.0198 - val_loss: 0.0323\n",
            "Epoch 374/400\n",
            "1/1 [==============================] - 0s 37ms/step - loss: 0.0196 - val_loss: 0.0323\n",
            "Epoch 375/400\n",
            "1/1 [==============================] - 0s 36ms/step - loss: 0.0195 - val_loss: 0.0324\n",
            "Epoch 376/400\n",
            "1/1 [==============================] - 0s 34ms/step - loss: 0.0193 - val_loss: 0.0325\n",
            "Epoch 377/400\n",
            "1/1 [==============================] - 0s 36ms/step - loss: 0.0192 - val_loss: 0.0325\n",
            "Epoch 378/400\n",
            "1/1 [==============================] - 0s 40ms/step - loss: 0.0190 - val_loss: 0.0326\n",
            "Epoch 379/400\n",
            "1/1 [==============================] - 0s 35ms/step - loss: 0.0189 - val_loss: 0.0326\n",
            "Epoch 380/400\n",
            "1/1 [==============================] - 0s 34ms/step - loss: 0.0187 - val_loss: 0.0327\n",
            "Epoch 381/400\n",
            "1/1 [==============================] - 0s 48ms/step - loss: 0.0186 - val_loss: 0.0327\n",
            "Epoch 382/400\n",
            "1/1 [==============================] - 0s 36ms/step - loss: 0.0184 - val_loss: 0.0328\n",
            "Epoch 383/400\n",
            "1/1 [==============================] - 0s 39ms/step - loss: 0.0183 - val_loss: 0.0328\n",
            "Epoch 384/400\n",
            "1/1 [==============================] - 0s 34ms/step - loss: 0.0182 - val_loss: 0.0329\n",
            "Epoch 385/400\n",
            "1/1 [==============================] - 0s 30ms/step - loss: 0.0180 - val_loss: 0.0329\n",
            "Epoch 386/400\n",
            "1/1 [==============================] - 0s 39ms/step - loss: 0.0179 - val_loss: 0.0329\n",
            "Epoch 387/400\n",
            "1/1 [==============================] - 0s 35ms/step - loss: 0.0178 - val_loss: 0.0330\n",
            "Epoch 388/400\n",
            "1/1 [==============================] - 0s 38ms/step - loss: 0.0176 - val_loss: 0.0330\n",
            "Epoch 389/400\n",
            "1/1 [==============================] - 0s 36ms/step - loss: 0.0175 - val_loss: 0.0330\n",
            "Epoch 390/400\n",
            "1/1 [==============================] - 0s 42ms/step - loss: 0.0174 - val_loss: 0.0330\n",
            "Epoch 391/400\n",
            "1/1 [==============================] - 0s 38ms/step - loss: 0.0172 - val_loss: 0.0330\n",
            "Epoch 392/400\n",
            "1/1 [==============================] - 0s 36ms/step - loss: 0.0171 - val_loss: 0.0330\n",
            "Epoch 393/400\n",
            "1/1 [==============================] - 0s 33ms/step - loss: 0.0170 - val_loss: 0.0331\n",
            "Epoch 394/400\n",
            "1/1 [==============================] - 0s 40ms/step - loss: 0.0168 - val_loss: 0.0331\n",
            "Epoch 395/400\n",
            "1/1 [==============================] - 0s 34ms/step - loss: 0.0167 - val_loss: 0.0331\n",
            "Epoch 396/400\n",
            "1/1 [==============================] - 0s 37ms/step - loss: 0.0166 - val_loss: 0.0331\n",
            "Epoch 397/400\n",
            "1/1 [==============================] - 0s 41ms/step - loss: 0.0164 - val_loss: 0.0331\n",
            "Epoch 398/400\n",
            "1/1 [==============================] - 0s 36ms/step - loss: 0.0163 - val_loss: 0.0330\n",
            "Epoch 399/400\n",
            "1/1 [==============================] - 0s 32ms/step - loss: 0.0162 - val_loss: 0.0330\n",
            "Epoch 400/400\n",
            "1/1 [==============================] - 0s 30ms/step - loss: 0.0161 - val_loss: 0.0330\n"
          ]
        }
      ]
    },
    {
      "cell_type": "markdown",
      "source": [
        "## Plotando a convergência"
      ],
      "metadata": {
        "id": "xCsDV_NA2LTI"
      }
    },
    {
      "cell_type": "code",
      "source": [
        "plot_convergence(hist, 'loss')"
      ],
      "metadata": {
        "id": "-qNC_Cz-VLjo",
        "colab": {
          "base_uri": "https://localhost:8080/",
          "height": 342
        },
        "outputId": "67e74ca8-2ae2-4670-b3e7-3089d4054381"
      },
      "execution_count": 43,
      "outputs": [
        {
          "output_type": "display_data",
          "data": {
            "text/plain": [
              "<Figure size 1080x360 with 1 Axes>"
            ],
            "image/png": "[encoded data removed]"
          },
          "metadata": {}
        }
      ]
    },
    {
      "cell_type": "markdown",
      "source": [
        "## Fazendo as predições para os dados"
      ],
      "metadata": {
        "id": "Tsd7oDW-2Sc0"
      }
    },
    {
      "cell_type": "code",
      "source": [
        "trainPredict = model.predict(trainX)\n",
        "testPredict = model.predict(testX)\n",
        "\n",
        "trainPredict = scaler.inverse_transform(trainPredict)\n",
        "trainY = scaler.inverse_transform([trainY])\n",
        "testPredict = scaler.inverse_transform(testPredict)\n",
        "testY = scaler.inverse_transform([testY])\n",
        "\n",
        "trainScore = np.sqrt(mean_squared_error(trainY[0], trainPredict[:,0]))\n",
        "print('Train Score: %.2f RMSE' % (trainScore))\n",
        "testScore = np.sqrt(mean_squared_error(testY[0], testPredict[:,0]))\n",
        "print('Test Score: %.2f RMSE' % (testScore))"
      ],
      "metadata": {
        "id": "JBXYBF__A1Ye",
        "colab": {
          "base_uri": "https://localhost:8080/"
        },
        "outputId": "70c82625-5d28-4e4e-8419-4a9c3e202260"
      },
      "execution_count": 44,
      "outputs": [
        {
          "output_type": "stream",
          "name": "stdout",
          "text": [
            "2/2 [==============================] - 1s 8ms/step\n",
            "1/1 [==============================] - 0s 15ms/step\n",
            "Train Score: 22023.08 RMSE\n",
            "Test Score: 26512.49 RMSE\n"
          ]
        }
      ]
    },
    {
      "cell_type": "markdown",
      "source": [
        "## Vendo a série prevista pela rede"
      ],
      "metadata": {
        "id": "EQqlGX9g2ZSj"
      }
    },
    {
      "cell_type": "code",
      "source": [
        "trainPredictPlot = np.empty_like(dataset)\n",
        "trainPredictPlot[:, :] = np.nan\n",
        "trainPredictPlot[look_back:len(trainPredict)+look_back, :] = trainPredict\n",
        "\n",
        "testPredictPlot = np.empty_like(dataset)\n",
        "testPredictPlot[:, :] = np.nan\n",
        "testPredictPlot[len(trainPredict)+(look_back*2)+1:len(dataset)-1, :] = testPredict\n",
        "\n",
        "plt.figure(figsize=(20,8))\n",
        "plt.plot(scaler.inverse_transform(dataset))\n",
        "plt.plot(trainPredictPlot)\n",
        "plt.plot(testPredictPlot)\n",
        "plt.show()"
      ],
      "metadata": {
        "id": "iy-_WjaNA3Kv",
        "colab": {
          "base_uri": "https://localhost:8080/",
          "height": 483
        },
        "outputId": "fd76b34f-1db2-4849-c8f6-9b955c81e5dc"
      },
      "execution_count": 45,
      "outputs": [
        {
          "output_type": "display_data",
          "data": {
            "text/plain": [
              "<Figure size 1440x576 with 1 Axes>"
            ],
            "image/png": "[encoded data removed]"
          },
          "metadata": {
            "needs_background": "light"
          }
        }
      ]
    }
  ]
}