{
 "cells": [
  {
   "cell_type": "markdown",
   "metadata": {},
   "source": [
    "# Pré-processamento dos dados meteorológicos sobre a ocorrência de dengue em MG \n",
    "\n",
    "## Período: 2014 a 2021"
   ]
  },
  {
   "cell_type": "markdown",
   "metadata": {},
   "source": [
    "### Bibliotecas"
   ]
  },
  {
   "cell_type": "code",
   "execution_count": 1,
   "metadata": {},
   "outputs": [],
   "source": [
    "import pandas as pd\n",
    "import itertools\n",
    "import os\n",
    "from io import StringIO"
   ]
  },
  {
   "cell_type": "markdown",
   "metadata": {},
   "source": [
    "### Variáveis globais"
   ]
  },
  {
   "cell_type": "code",
   "execution_count": 2,
   "metadata": {},
   "outputs": [],
   "source": [
    "path_meteo = '..\\\\dataset\\\\meteo\\\\'\n",
    "path_base = '..\\\\dataset\\\\base\\\\'"
   ]
  },
  {
   "cell_type": "markdown",
   "metadata": {},
   "source": [
    "### Leitura dos dados"
   ]
  },
  {
   "cell_type": "code",
   "execution_count": 36,
   "metadata": {},
   "outputs": [],
   "source": [
    "def read_base(filename_var):\n",
    "    file_path = os.path.join(path_base, filename_var) + '.csv'\n",
    "    return pd.read_csv(file_path, sep=';', encoding = \"latin-1\")"
   ]
  },
  {
   "cell_type": "code",
   "execution_count": 37,
   "metadata": {},
   "outputs": [],
   "source": [
    "def read_folder(path_data):\n",
    "    files = os.listdir(path_data)\n",
    "    files.sort()\n",
    "    return [file_name for file_name in files]"
   ]
  },
  {
   "cell_type": "code",
   "execution_count": 38,
   "metadata": {},
   "outputs": [],
   "source": [
    "def list_mun():\n",
    "    dic_munic = {}\n",
    "    filename_var = 'municipio'\n",
    "    df = read_base(filename_var)\n",
    "    for i, t in df.iterrows():\n",
    "        dic_munic.update({t.MUNICIPIO:t.MACRORREGIAO})\n",
    "    return dic_munic"
   ]
  },
  {
   "cell_type": "code",
   "execution_count": 55,
   "metadata": {},
   "outputs": [],
   "source": [
    "def break_test(s):\n",
    "    return 'PRECIPITAÇÃO' not in s.upper()\n",
    "\n",
    "def read_file(file_path):\n",
    "    with open(file_path, encoding='latin-1') as fp:\n",
    "        txt_lines = fp.readlines()\n",
    "        md = [s for s in txt_lines]\n",
    "        data_lines = list(itertools.dropwhile(break_test, txt_lines))\n",
    "        return data_lines"
   ]
  },
  {
   "cell_type": "code",
   "execution_count": 58,
   "metadata": {},
   "outputs": [],
   "source": [
    "def clean_data(df):\n",
    "    df['UMIDADE_RELATIVA'].fillna(value=df['UMIDADE_RELATIVA'].mean(), inplace=True)\n",
    "    for c in df.columns:   \n",
    "        df = df[df[c] != -9999]\n",
    "    return df"
   ]
  },
  {
   "cell_type": "code",
   "execution_count": 69,
   "metadata": {},
   "outputs": [],
   "source": [
    "def totalizar_mun(df):\n",
    "    return df.groupby(['ANO', 'MES'], group_keys=False).mean().reset_index()\n",
    "\n",
    "def totalizar_reg(df):\n",
    "    return df.groupby(['ANO', 'MES', 'MACRORREGIAO'], group_keys=False).mean().reset_index()"
   ]
  },
  {
   "cell_type": "code",
   "execution_count": 42,
   "metadata": {},
   "outputs": [],
   "source": [
    "lst_files = read_folder(path_meteo)\n",
    "dic_munic = list_mun()"
   ]
  },
  {
   "cell_type": "code",
   "execution_count": 72,
   "metadata": {},
   "outputs": [],
   "source": [
    "def create_meteo_df():\n",
    "    lst = []\n",
    "    for k_mun, v_reg in dic_munic.items():\n",
    "        files_mun = [f for f in lst_files if k_mun in f]\n",
    "        for f in files_mun:\n",
    "            full_name = os.path.join(path_meteo, f)\n",
    "            lines = read_file(full_name)\n",
    "            df = pd.read_csv(StringIO(''.join(lines)), sep=';', decimal=\",\", encoding = \"latin-1\")\n",
    "\n",
    "            col_names = {\n",
    "                'Data':'DATA_COLETA',\n",
    "                'DATA (YYYY-MM-DD)':'DATA_COLETA',\n",
    "                'PRECIPITAÇÃO TOTAL, HORÁRIO (mm)':'PRECIPITACAO',\n",
    "                'PRESSAO ATMOSFERICA AO NIVEL DA ESTACAO, HORARIA (mB)':'PRESSAO_ATM',\n",
    "                'TEMPERATURA DO AR - BULBO SECO, HORARIA (°C)':'TEMPERATURA',\n",
    "                'UMIDADE RELATIVA DO AR, HORARIA (%)':'UMIDADE_RELATIVA'\n",
    "            }\n",
    "            df.rename(columns=col_names, inplace=True)\n",
    "\n",
    "            df = df[['DATA_COLETA', 'PRECIPITACAO', 'PRESSAO_ATM', 'TEMPERATURA', 'UMIDADE_RELATIVA']]\n",
    "\n",
    "            df['ANO'] = df['DATA_COLETA'].apply(lambda x: x[0:4])\n",
    "            df['MES'] = df['DATA_COLETA'].apply(lambda x: x[5:7])\n",
    "\n",
    "            df = clean_data(df)\n",
    "            df = totalizar_mun(df)\n",
    "\n",
    "            df['MUNICIPIO'] = k_mun\n",
    "            df['MACRORREGIAO'] = v_reg\n",
    "\n",
    "            lst.append(df)    \n",
    "    return pd.concat(lst)"
   ]
  },
  {
   "cell_type": "code",
   "execution_count": 78,
   "metadata": {},
   "outputs": [
    {
     "name": "stdout",
     "output_type": "stream",
     "text": [
      "<class 'pandas.core.frame.DataFrame'>\n",
      "RangeIndex: 1344 entries, 0 to 1343\n",
      "Data columns (total 7 columns):\n",
      " #   Column            Non-Null Count  Dtype  \n",
      "---  ------            --------------  -----  \n",
      " 0   ANO               1344 non-null   object \n",
      " 1   MES               1344 non-null   object \n",
      " 2   MACRORREGIAO      1344 non-null   int64  \n",
      " 3   PRECIPITACAO      1344 non-null   float64\n",
      " 4   PRESSAO_ATM       1344 non-null   float64\n",
      " 5   TEMPERATURA       1344 non-null   float64\n",
      " 6   UMIDADE_RELATIVA  1344 non-null   float64\n",
      "dtypes: float64(4), int64(1), object(2)\n",
      "memory usage: 73.6+ KB\n",
      "None\n"
     ]
    },
    {
     "data": {
      "text/html": [
       "<div>\n",
       "<style scoped>\n",
       "    .dataframe tbody tr th:only-of-type {\n",
       "        vertical-align: middle;\n",
       "    }\n",
       "\n",
       "    .dataframe tbody tr th {\n",
       "        vertical-align: top;\n",
       "    }\n",
       "\n",
       "    .dataframe thead th {\n",
       "        text-align: right;\n",
       "    }\n",
       "</style>\n",
       "<table border=\"1\" class=\"dataframe\">\n",
       "  <thead>\n",
       "    <tr style=\"text-align: right;\">\n",
       "      <th></th>\n",
       "      <th>ANO</th>\n",
       "      <th>MES</th>\n",
       "      <th>MACRORREGIAO</th>\n",
       "      <th>PRECIPITACAO</th>\n",
       "      <th>PRESSAO_ATM</th>\n",
       "      <th>TEMPERATURA</th>\n",
       "      <th>UMIDADE_RELATIVA</th>\n",
       "    </tr>\n",
       "  </thead>\n",
       "  <tbody>\n",
       "    <tr>\n",
       "      <th>111</th>\n",
       "      <td>2014</td>\n",
       "      <td>08</td>\n",
       "      <td>3114</td>\n",
       "      <td>0.016935</td>\n",
       "      <td>957.303495</td>\n",
       "      <td>20.650739</td>\n",
       "      <td>65.0</td>\n",
       "    </tr>\n",
       "    <tr>\n",
       "      <th>340</th>\n",
       "      <td>2016</td>\n",
       "      <td>01</td>\n",
       "      <td>3105</td>\n",
       "      <td>0.422524</td>\n",
       "      <td>922.325180</td>\n",
       "      <td>23.199293</td>\n",
       "      <td>81.0</td>\n",
       "    </tr>\n",
       "    <tr>\n",
       "      <th>308</th>\n",
       "      <td>2015</td>\n",
       "      <td>11</td>\n",
       "      <td>3101</td>\n",
       "      <td>0.329630</td>\n",
       "      <td>908.494687</td>\n",
       "      <td>22.217857</td>\n",
       "      <td>80.0</td>\n",
       "    </tr>\n",
       "    <tr>\n",
       "      <th>1313</th>\n",
       "      <td>2021</td>\n",
       "      <td>10</td>\n",
       "      <td>3112</td>\n",
       "      <td>0.214982</td>\n",
       "      <td>921.604923</td>\n",
       "      <td>24.735399</td>\n",
       "      <td>67.0</td>\n",
       "    </tr>\n",
       "    <tr>\n",
       "      <th>59</th>\n",
       "      <td>2014</td>\n",
       "      <td>05</td>\n",
       "      <td>3104</td>\n",
       "      <td>0.019758</td>\n",
       "      <td>890.575403</td>\n",
       "      <td>17.963038</td>\n",
       "      <td>76.0</td>\n",
       "    </tr>\n",
       "    <tr>\n",
       "      <th>1238</th>\n",
       "      <td>2021</td>\n",
       "      <td>05</td>\n",
       "      <td>3107</td>\n",
       "      <td>0.008154</td>\n",
       "      <td>950.503397</td>\n",
       "      <td>21.198119</td>\n",
       "      <td>71.0</td>\n",
       "    </tr>\n",
       "    <tr>\n",
       "      <th>471</th>\n",
       "      <td>2016</td>\n",
       "      <td>10</td>\n",
       "      <td>3110</td>\n",
       "      <td>0.125237</td>\n",
       "      <td>929.460748</td>\n",
       "      <td>20.922003</td>\n",
       "      <td>75.0</td>\n",
       "    </tr>\n",
       "    <tr>\n",
       "      <th>1110</th>\n",
       "      <td>2020</td>\n",
       "      <td>08</td>\n",
       "      <td>3105</td>\n",
       "      <td>0.015484</td>\n",
       "      <td>926.494731</td>\n",
       "      <td>18.954570</td>\n",
       "      <td>62.0</td>\n",
       "    </tr>\n",
       "    <tr>\n",
       "      <th>528</th>\n",
       "      <td>2017</td>\n",
       "      <td>02</td>\n",
       "      <td>3111</td>\n",
       "      <td>0.171257</td>\n",
       "      <td>968.096989</td>\n",
       "      <td>25.693084</td>\n",
       "      <td>70.0</td>\n",
       "    </tr>\n",
       "    <tr>\n",
       "      <th>823</th>\n",
       "      <td>2018</td>\n",
       "      <td>11</td>\n",
       "      <td>3112</td>\n",
       "      <td>0.485008</td>\n",
       "      <td>921.068784</td>\n",
       "      <td>22.705374</td>\n",
       "      <td>77.0</td>\n",
       "    </tr>\n",
       "  </tbody>\n",
       "</table>\n",
       "</div>"
      ],
      "text/plain": [
       "       ANO MES  MACRORREGIAO  PRECIPITACAO  PRESSAO_ATM  TEMPERATURA  \\\n",
       "111   2014  08          3114      0.016935   957.303495    20.650739   \n",
       "340   2016  01          3105      0.422524   922.325180    23.199293   \n",
       "308   2015  11          3101      0.329630   908.494687    22.217857   \n",
       "1313  2021  10          3112      0.214982   921.604923    24.735399   \n",
       "59    2014  05          3104      0.019758   890.575403    17.963038   \n",
       "1238  2021  05          3107      0.008154   950.503397    21.198119   \n",
       "471   2016  10          3110      0.125237   929.460748    20.922003   \n",
       "1110  2020  08          3105      0.015484   926.494731    18.954570   \n",
       "528   2017  02          3111      0.171257   968.096989    25.693084   \n",
       "823   2018  11          3112      0.485008   921.068784    22.705374   \n",
       "\n",
       "      UMIDADE_RELATIVA  \n",
       "111               65.0  \n",
       "340               81.0  \n",
       "308               80.0  \n",
       "1313              67.0  \n",
       "59                76.0  \n",
       "1238              71.0  \n",
       "471               75.0  \n",
       "1110              62.0  \n",
       "528               70.0  \n",
       "823               77.0  "
      ]
     },
     "execution_count": 78,
     "metadata": {},
     "output_type": "execute_result"
    }
   ],
   "source": [
    "df_meteo = create_meteo_df()\n",
    "df_meteo = totalizar_reg(df_meteo)\n",
    "df_meteo['UMIDADE_RELATIVA'] = df_meteo['UMIDADE_RELATIVA'].apply(lambda x: round(x, 0))\n",
    "full_name = os.path.join(path_base, 'meteo_mg.csv')\n",
    "df_meteo.to_csv(full_name, sep=';', encoding='latin-1')\n",
    "print(df_meteo.info())\n",
    "df_meteo.sample(10)"
   ]
  }
 ],
 "metadata": {
  "kernelspec": {
   "display_name": "Python 3",
   "language": "python",
   "name": "python3"
  },
  "language_info": {
   "codemirror_mode": {
    "name": "ipython",
    "version": 3
   },
   "file_extension": ".py",
   "mimetype": "text/x-python",
   "name": "python",
   "nbconvert_exporter": "python",
   "pygments_lexer": "ipython3",
   "version": "3.9.13"
  },
  "orig_nbformat": 4,
  "vscode": {
   "interpreter": {
    "hash": "1926617a156be78efc8ffdd6dd06bcc5fc91d5b8003ee2c0dad67e4b1ac31dbf"
   }
  }
 },
 "nbformat": 4,
 "nbformat_minor": 2
}
